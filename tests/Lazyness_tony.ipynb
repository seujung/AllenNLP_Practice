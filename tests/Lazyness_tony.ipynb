{
 "cells": [
  {
   "cell_type": "code",
   "execution_count": 2,
   "metadata": {},
   "outputs": [],
   "source": [
    "#Lazy Data (instance-by-instance)\n",
    "\n",
    "# Steps 1\n",
    "# Specify laziness in the DatasetReader constructor\n",
    "\n",
    "#ex) \n",
    "# def __init__(self,\n",
    "#             tokenizer: Tokenizer = None,\n",
    "#              token_indexers:Dict[str,TokenIndexer]=None,\n",
    "#              lazy: bool = False) -> None:\n",
    "# #-> super().__init(lazy)\n",
    "#     self._tokenizer = tokenizer or WordTokenizer()\n",
    "#     self._token_indexers = token_indexers or {'tokens':SingleIdTokenIndexer()}\n",
    "    \n",
    "    "
   ]
  },
  {
   "cell_type": "code",
   "execution_count": 3,
   "metadata": {},
   "outputs": [],
   "source": [
    "# Steps2 \n",
    "# Laziness in DatasetReader.read\n",
    "\n",
    "\n"
   ]
  },
  {
   "cell_type": "code",
   "execution_count": 5,
   "metadata": {},
   "outputs": [
    {
     "data": {
      "text/plain": [
       "'\\ndef _read(self,file_path:str) -> Iterable[Instance]:\\n    #logic to iterate over file\\n    yield instance\\n'"
      ]
     },
     "execution_count": 5,
     "metadata": {},
     "output_type": "execute_result"
    }
   ],
   "source": [
    "# Step3 \n",
    "# Laziness in YourDatasetReader._read()\n",
    "#implement as a generator that yields one instance at a time\n",
    "\n",
    "\"\"\"\n",
    "def _read(self,file_path:str) -> Iterable[Instance]:\n",
    "    #logic to iterate over file\n",
    "    yield instance\n",
    "\"\"\"\n",
    "\n",
    "# in json\n",
    "\"dataset_reader\":{\n",
    "    \"type\":\"snli\",\n",
    "    \"lazy\":true,\n",
    "    \"token_indexers\":{\n",
    "        \"tokens\":{\n",
    "            \"type\":\"single_id\",\n",
    "            \"lowercase_tokens\":true\n",
    "        }\n",
    "    }\n",
    "}"
   ]
  },
  {
   "cell_type": "code",
   "execution_count": null,
   "metadata": {},
   "outputs": [],
   "source": [
    "#Step4 \n",
    "# Laziness in DataIterator\n",
    "\n",
    "def __init__(self,\n",
    "            batch_size: int = 32,\n",
    "            instances_per_epoch: int = None,\n",
    "            max_instances_in_memory: int = None)->None:\n",
    "    self._batch_size = batch_size\n",
    "    self._instances_per_epoch = instances_per_epoch\n",
    "    self._max_instances_in_memory = max_instances_in_memory\n",
    "    \n",
    "    "
   ]
  }
 ],
 "metadata": {
  "kernelspec": {
   "display_name": "Python 3",
   "language": "python",
   "name": "python3"
  },
  "language_info": {
   "codemirror_mode": {
    "name": "ipython",
    "version": 3
   },
   "file_extension": ".py",
   "mimetype": "text/x-python",
   "name": "python",
   "nbconvert_exporter": "python",
   "pygments_lexer": "ipython3",
   "version": "3.6.7"
  }
 },
 "nbformat": 4,
 "nbformat_minor": 2
}

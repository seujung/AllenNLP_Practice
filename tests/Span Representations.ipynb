{
 "cells": [
  {
   "cell_type": "markdown",
   "metadata": {},
   "source": [
    "# Span representations\n",
    "\n",
    "Many State of the art Deep NLP models use representations of spans as the basic building block for models. Examples are : \n",
    "\n",
    "* End to End Neural Coreference Resolution\n",
    "* A minimal span based neural constituency parser\n",
    "* Learning recurrent span representations for extractive question answering\n",
    "* Frame-semantic parsing with softmax-margin segmental rnns and a syntactic scaffold\n",
    "* Segmental recurrent neural networks\n"
   ]
  },
  {
   "cell_type": "markdown",
   "metadata": {},
   "source": [
    "## Things that needs to  consider \n",
    "* enumerating all possible spans in a DatasetReader as input to your model\n",
    "* extracting embedded spans representations for the span indices\n",
    "* pruning the spans in your model to keep only the most promising ones"
   ]
  },
  {
   "cell_type": "code",
   "execution_count": null,
   "metadata": {},
   "outputs": [],
   "source": []
  }
 ],
 "metadata": {
  "kernelspec": {
   "display_name": "Python 3",
   "language": "python",
   "name": "python3"
  },
  "language_info": {
   "codemirror_mode": {
    "name": "ipython",
    "version": 3
   },
   "file_extension": ".py",
   "mimetype": "text/x-python",
   "name": "python",
   "nbconvert_exporter": "python",
   "pygments_lexer": "ipython3",
   "version": "3.6.7"
  }
 },
 "nbformat": 4,
 "nbformat_minor": 2
}

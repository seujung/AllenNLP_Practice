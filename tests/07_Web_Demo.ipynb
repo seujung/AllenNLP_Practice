{
 "cells": [
  {
   "cell_type": "markdown",
   "metadata": {},
   "source": [
    "# Running a Web Demo\n",
    "\n",
    "\n",
    "trained model and a predictor --> simple web demo:\n",
    "\n",
    "```\n",
    "$ python -m allennlp.service.server_simple --help\n",
    "\n",
    "usage: server_simple.py [-h] [--archive-path ARCHIVE_PATH]\n",
    "                        [--predictor PREDICTOR] [--static-dir STATIC_DIR]\n",
    "                        [--title TITLE] [--field-name FIELD_NAME]\n",
    "                        [--include-package INCLUDE_PACKAGE]\n",
    "```\n",
    "\n",
    "Let's ignore the --static-dir flag for now and serve up the test fixture model:\n",
    "\n",
    "```\n",
    "python -m allennlp.service.server_simple \\\n",
    "    --archive-path tests/venue_output/model.tar.gz \\\n",
    "    --predictor paper-classifier \\\n",
    "    --include-package my_library \\\n",
    "    --title \"Academic Paper Classifier\" \\\n",
    "    --field-name title \\\n",
    "    --field-name paperAbstract\n",
    "```\n",
    "    \n",
    "    \n",
    "Now, run any browser(chrome, explorer) and type  \"localhost:8000\"  \n",
    "\n",
    "![](demo_web.png)\n"
   ]
  },
  {
   "cell_type": "code",
   "execution_count": null,
   "metadata": {},
   "outputs": [],
   "source": []
  }
 ],
 "metadata": {
  "kernelspec": {
   "display_name": "Python 3",
   "language": "python",
   "name": "python3"
  },
  "language_info": {
   "codemirror_mode": {
    "name": "ipython",
    "version": 3
   },
   "file_extension": ".py",
   "mimetype": "text/x-python",
   "name": "python",
   "nbconvert_exporter": "python",
   "pygments_lexer": "ipython3",
   "version": "3.6.7"
  }
 },
 "nbformat": 4,
 "nbformat_minor": 2
}

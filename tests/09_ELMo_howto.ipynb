{
 "cells": [
  {
   "cell_type": "markdown",
   "metadata": {},
   "source": [
    "# ELMO : Deep contextualized word representations\n",
    "\n",
    "Pre-trained contextual representations of words from large scale bidirectional languate models provides large improvements over GloVe / word2ved baselines.\n",
    "\n",
    "### Application includes:\n",
    "* question answering\n",
    "* co-reference \n",
    "* semantic role labeling \n",
    "* classification \n",
    "* syntcatic parsing\n",
    "\n",
    "### Reference \n",
    "* [Deep contextualized word representations](http://www.aclweb.org/anthology/N18-1202)\n",
    "* [AllenNLP ELMo section](https://allennlp.org/elmo)\n",
    "    "
   ]
  },
  {
   "cell_type": "markdown",
   "metadata": {},
   "source": [
    "## Contextual representation\n",
    "\n",
    "The elmo command will write all the BiLM individual layer representations for a dataset of senteneces to an HDF5 file\n"
   ]
  },
  {
   "cell_type": "code",
   "execution_count": 1,
   "metadata": {},
   "outputs": [
    {
     "name": "stdout",
     "output_type": "stream",
     "text": [
      "2019-02-07 12:43:52,738 - INFO - allennlp.common.registrable - instantiating registered subclass relu of <class 'allennlp.nn.activations.Activation'>\n",
      "2019-02-07 12:43:52,738 - INFO - allennlp.common.registrable - instantiating registered subclass relu of <class 'allennlp.nn.activations.Activation'>\n",
      "2019-02-07 12:43:52,741 - INFO - allennlp.common.registrable - instantiating registered subclass relu of <class 'allennlp.nn.activations.Activation'>\n",
      "2019-02-07 12:43:52,743 - INFO - allennlp.common.registrable - instantiating registered subclass relu of <class 'allennlp.nn.activations.Activation'>\n",
      "2019-02-07 12:43:52,808 - INFO - allennlp.commands.elmo - Initializing ELMo.\n",
      "2019-02-07 12:44:07,110 - INFO - allennlp.commands.elmo - Processing sentences.\n",
      "2it [00:00,  4.77it/s]\n"
     ]
    }
   ],
   "source": [
    "!allennlp elmo sentences.txt elmo_layers.hdf5 --all"
   ]
  },
  {
   "cell_type": "markdown",
   "metadata": {},
   "source": [
    "## Load the contextual representation"
   ]
  },
  {
   "cell_type": "code",
   "execution_count": 9,
   "metadata": {},
   "outputs": [
    {
     "name": "stdout",
     "output_type": "stream",
     "text": [
      "Total number of layers :  3\n",
      "Total number of words in the first sentence :  16\n",
      "Dimension of representation :  1024\n"
     ]
    }
   ],
   "source": [
    "import h5py\n",
    "h5py_file = h5py.File(\"elmo_layers.hdf5\",'r')\n",
    "embedding = h5py_file.get(\"0\")\n",
    "print(\"Total number of layers : \", len(embedding))\n",
    "print(\"Total number of words in the first sentence : \", \n",
    "      len(embedding[0]))\n",
    "print(\"Dimension of representation : \" , len(embedding[0][0]))"
   ]
  },
  {
   "cell_type": "code",
   "execution_count": null,
   "metadata": {},
   "outputs": [],
   "source": []
  }
 ],
 "metadata": {
  "kernelspec": {
   "display_name": "Python 3",
   "language": "python",
   "name": "python3"
  },
  "language_info": {
   "codemirror_mode": {
    "name": "ipython",
    "version": 3
   },
   "file_extension": ".py",
   "mimetype": "text/x-python",
   "name": "python",
   "nbconvert_exporter": "python",
   "pygments_lexer": "ipython3",
   "version": "3.6.7"
  }
 },
 "nbformat": 4,
 "nbformat_minor": 2
}

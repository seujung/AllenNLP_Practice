{
 "cells": [
  {
   "cell_type": "markdown",
   "metadata": {},
   "source": [
    "# Data Pipeline\n",
    "\n",
    "   ##  Hierarchical system of data structures \n",
    "   * Easy padding \n",
    "   * Easy batching\n",
    "   * Easy iteration"
   ]
  },
  {
   "cell_type": "markdown",
   "metadata": {},
   "source": [
    "## Steps to feed the dataset into PyTorch model \n",
    " * Create a vocabulary from the dataset\n",
    "     * Use Vocabulary.from_instances\n",
    " * Collect instances into a Batch\n",
    "     * Provides methods for indexing and converting to Pytorch Tensors\n",
    " * Index the words and labels in Fields\n",
    "     * In order to use the integer indices specified by the Vocabulary\n",
    " * Pad the instances to the same length\n",
    " * Convert into Pytorch Tensors\n",
    " "
   ]
  },
  {
   "cell_type": "markdown",
   "metadata": {},
   "source": [
    "### Vocabulary Creation"
   ]
  },
  {
   "cell_type": "code",
   "execution_count": 8,
   "metadata": {},
   "outputs": [
    {
     "name": "stderr",
     "output_type": "stream",
     "text": [
      "100%|██████████| 2/2 [00:00<00:00, 5226.55it/s]\n"
     ]
    }
   ],
   "source": [
    "from allennlp.data import Vocabulary\n",
    "\n",
    "vocab = Vocabulary.from_instances(instances)"
   ]
  },
  {
   "cell_type": "markdown",
   "metadata": {},
   "source": [
    "###  word_id --> token(word) mapping\n",
    "   * get_index_to_token_vocabulary"
   ]
  },
  {
   "cell_type": "code",
   "execution_count": 14,
   "metadata": {},
   "outputs": [
    {
     "name": "stdout",
     "output_type": "stream",
     "text": [
      " id -> word mapping for the \"token_ids\" namespace: \n",
      "{0: '@@PADDING@@', 1: '@@UNKNOWN@@', 2: 'this', 3: 'movie', 4: 'was', 5: 'awful', 6: '!', 7: 'quite', 8: 'slow', 9: 'but', 10: 'good', 11: '.'} \n",
      "\n"
     ]
    }
   ],
   "source": [
    "# token_ids namespace\n",
    "\n",
    "print('id -> word mapping for the \"token_ids\" namespace: ')\n",
    "print(vocab.get_index_to_token_vocabulary(\"token_ids\"),\"\\n\")"
   ]
  },
  {
   "cell_type": "code",
   "execution_count": 13,
   "metadata": {},
   "outputs": [
    {
     "name": "stdout",
     "output_type": "stream",
     "text": [
      "id -> word mapping for the \"tags\" namespace: \n",
      "{0: 'negative', 1: 'positive'} \n",
      "\n"
     ]
    }
   ],
   "source": [
    "# tags namespace\n",
    "\n",
    "print('id -> word mapping for the \"tags\" namespace: ')\n",
    "print(vocab.get_index_to_token_vocabulary('tags'), '\\n')"
   ]
  },
  {
   "cell_type": "markdown",
   "metadata": {},
   "source": [
    "###  Token(word) -> id "
   ]
  },
  {
   "cell_type": "code",
   "execution_count": 16,
   "metadata": {},
   "outputs": [
    {
     "name": "stdout",
     "output_type": "stream",
     "text": [
      "Token to Index dictionary: \n",
      " defaultdict(None, {'token_ids': {'@@PADDING@@': 0, '@@UNKNOWN@@': 1, 'this': 2, 'movie': 3, 'was': 4, 'awful': 5, '!': 6, 'quite': 7, 'slow': 8, 'but': 9, 'good': 10, '.': 11}, 'tags': {'negative': 0, 'positive': 1}}) \n",
      "\n"
     ]
    }
   ],
   "source": [
    "print('Token to Index dictionary: \\n' ,vocab._token_to_index, '\\n')"
   ]
  },
  {
   "cell_type": "markdown",
   "metadata": {},
   "source": [
    "### Collect Instances(dataset) into Batch and Index them\n",
    "  * Must perform this step before generating Tensors"
   ]
  },
  {
   "cell_type": "code",
   "execution_count": 17,
   "metadata": {},
   "outputs": [],
   "source": [
    "from allennlp.data.dataset import Batch\n",
    "\n",
    "batch = Batch(instances)\n",
    "# index batch using vocabulary\n",
    "batch.index_instances(vocab)"
   ]
  },
  {
   "cell_type": "markdown",
   "metadata": {},
   "source": [
    "### Pad the instances to the same length"
   ]
  },
  {
   "cell_type": "code",
   "execution_count": 18,
   "metadata": {},
   "outputs": [
    {
     "name": "stdout",
     "output_type": "stream",
     "text": [
      "Lengths used for padding :  {'review': {'num_tokens': 8}} \n",
      "\n",
      "Look how tensors are padded!!! \n",
      " {'review': {'tokens': tensor([[ 2,  3,  4,  5,  6,  0,  0,  0],\n",
      "        [ 2,  3,  4,  7,  8,  9, 10, 11]])}, 'label': tensor([0, 1])}\n"
     ]
    }
   ],
   "source": [
    "# get the padding lenth \n",
    "\n",
    "padding_lengths = batch.get_padding_lengths()\n",
    "print(\"Lengths used for padding : \", padding_lengths, \"\\n\")\n",
    "\n",
    "# padd instances and return Pytorch Tensors \n",
    "tensor_dict = batch.as_tensor_dict(padding_lengths)\n",
    "print(\"Look how tensors are padded!!! \\n\", tensor_dict)"
   ]
  },
  {
   "cell_type": "markdown",
   "metadata": {},
   "source": [
    "# The role of TokenIndexer\n",
    "\n",
    "* Conventional pre-processing flow\n",
    " * token --> indexing --> embedding\n",
    "\n",
    "* AllenNLP pre-processing flow\n",
    " * token --> token_indexer --> token_embedder --> TextField\n",
    " \n",
    "* What if we want to use multiple Indexer \n",
    " * e.g. TokenCharacterIndexer --> generates indices for each character in a token"
   ]
  },
  {
   "cell_type": "code",
   "execution_count": 19,
   "metadata": {},
   "outputs": [],
   "source": [
    "# for large batch --> Interator\n",
    "# fixed batch size, bucketing, stocharsing sorting\n",
    "\n",
    "# Normal FLow  : tokenization -> indexing -> embedding pipeline\n",
    "# Allennlp     : tokenization -> TokenIndexers -> TokenEmbedders -> TextFieldEmbedders\n",
    "\n",
    "# ex ) TokenCharacterIndexer --> takes the word in a TextField \n",
    "#                               and generates indices for the character in the word"
   ]
  },
  {
   "cell_type": "code",
   "execution_count": 21,
   "metadata": {},
   "outputs": [
    {
     "name": "stderr",
     "output_type": "stream",
     "text": [
      "1it [00:00, 6150.01it/s]"
     ]
    },
    {
     "name": "stdout",
     "output_type": "stream",
     "text": [
      "this is the id -> word mapping for the 'tokens_ids' namesapce: \n",
      "{0: '@@PADDING@@', 1: '@@UNKNOWN@@', 2: 'here', 3: 'are', 4: 'some', 5: 'longer', 6: 'words', 7: '.'} \n",
      "\n",
      "this is the id -> word mapping for the 'token_chars' namespace: \n",
      "{0: '@@PADDING@@', 1: '@@UNKNOWN@@', 2: 'e', 3: 'r', 4: 'o', 5: 's', 6: 'h', 7: 'a', 8: 'm', 9: 'l', 10: 'n', 11: 'g', 12: 'w', 13: 'd', 14: '.'} \\m\n"
     ]
    },
    {
     "name": "stderr",
     "output_type": "stream",
     "text": [
      "\n"
     ]
    }
   ],
   "source": [
    "from allennlp.data.token_indexers import TokenCharactersIndexer\n",
    "\n",
    "tokens = list(map(Token,['here','are','some','longer','words','.']))\n",
    "token_indexers = {'tokens':SingleIdTokenIndexer(namespace='token_ids'),\n",
    "                  'chars':TokenCharactersIndexer(namespace='token_chars')}\n",
    "\n",
    "word_and_character_text_field = TextField(tokens,token_indexers)\n",
    "\n",
    "mini_dataset = Batch([Instance({\"sentence\":word_and_character_text_field})])\n",
    "\n",
    "word_and_char_vocab = Vocabulary.from_instances(mini_dataset)\n",
    "\n",
    "mini_dataset.index_instances(word_and_char_vocab)\n",
    "\n",
    "print(\"this is the id -> word mapping for the 'tokens_ids' namesapce: \")\n",
    "print(word_and_char_vocab.get_index_to_token_vocabulary(\"token_ids\"), \"\\n\")\n",
    "print(\"this is the id -> word mapping for the 'token_chars' namespace: \")\n",
    "print(word_and_char_vocab.get_index_to_token_vocabulary(\"token_chars\"),'\\m')"
   ]
  },
  {
   "cell_type": "code",
   "execution_count": 23,
   "metadata": {},
   "outputs": [
    {
     "name": "stdout",
     "output_type": "stream",
     "text": [
      "Lengths used for padding( Note that we now have a new \n",
      "padding key num_tokens_characters from the TokenCharactersIndexer):\n",
      "{'sentence': {'num_tokens': 6, 'num_token_characters': 6}} \n",
      "\n",
      "The resulting PyTorch Tensor is : \n",
      " {'sentence': {'tokens': tensor([[2, 3, 4, 5, 6, 7]]), 'chars': tensor([[[ 6,  2,  3,  2,  0,  0],\n",
      "         [ 7,  3,  2,  0,  0,  0],\n",
      "         [ 5,  4,  8,  2,  0,  0],\n",
      "         [ 9,  4, 10, 11,  2,  3],\n",
      "         [12,  4,  3, 13,  5,  0],\n",
      "         [14,  0,  0,  0,  0,  0]]])}}\n"
     ]
    }
   ],
   "source": [
    "padding_lengths = mini_dataset.get_padding_lengths()\n",
    "print(\"Lengths used for padding( Note that we now have a new \\n\"\n",
    "     \"padding key num_tokens_characters from the TokenCharactersIndexer):\")\n",
    "print(padding_lengths, \"\\n\")\n",
    "\n",
    "tensor_dict = mini_dataset.as_tensor_dict(padding_lengths)\n",
    "\n",
    "print(\"The resulting PyTorch Tensor is : \\n\",tensor_dict)"
   ]
  },
  {
   "cell_type": "code",
   "execution_count": 43,
   "metadata": {},
   "outputs": [
    {
     "data": {
      "text/plain": [
       "{'tokens': <allennlp.data.token_indexers.single_id_token_indexer.SingleIdTokenIndexer at 0x7f04680702b0>,\n",
       " 'chars': <allennlp.data.token_indexers.token_characters_indexer.TokenCharactersIndexer at 0x7f0468070e48>}"
      ]
     },
     "execution_count": 43,
     "metadata": {},
     "output_type": "execute_result"
    }
   ],
   "source": [
    "#Note that the keys for the dictionary of token_indexers \n",
    "#for the TextField are different from the namespaces. \n",
    "#This is because it's possible to re-use a namespace in different TokenIndexer\n",
    "token_indexers"
   ]
  },
  {
   "cell_type": "code",
   "execution_count": null,
   "metadata": {},
   "outputs": [],
   "source": []
  }
 ],
 "metadata": {
  "kernelspec": {
   "display_name": "Python 3",
   "language": "python",
   "name": "python3"
  },
  "language_info": {
   "codemirror_mode": {
    "name": "ipython",
    "version": 3
   },
   "file_extension": ".py",
   "mimetype": "text/x-python",
   "name": "python",
   "nbconvert_exporter": "python",
   "pygments_lexer": "ipython3",
   "version": "3.6.7"
  }
 },
 "nbformat": 4,
 "nbformat_minor": 2
}

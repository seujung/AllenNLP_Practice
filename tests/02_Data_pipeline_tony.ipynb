{
 "cells": [
  {
   "cell_type": "markdown",
   "metadata": {},
   "source": [
    "# Data Pipeline\n",
    "\n",
    "   ##  Hierarchical system of data structures \n",
    "   * Easy padding \n",
    "   * Easy batching\n",
    "   * Easy iteration"
   ]
  },
  {
   "cell_type": "markdown",
   "metadata": {},
   "source": [
    "## Steps to feed the dataset into PyTorch model \n",
    " * Create a vocabulary from the dataset\n",
    "     * Use Vocabulary.from_instances\n",
    " * Collect instances into a Batch\n",
    "     * Provides methods for indexing and converting to Pytorch Tensors\n",
    " * Index the words and labels in Fields\n",
    "     * In order to use the integer indices specified by the Vocabulary\n",
    " * Pad the instances to the same length\n",
    " * Convert into Pytorch Tensors\n",
    " "
   ]
  },
  {
   "cell_type": "markdown",
   "metadata": {},
   "source": [
    "### Vocabulary Creation"
   ]
  },
  {
   "cell_type": "code",
   "execution_count": null,
   "metadata": {},
   "outputs": [],
   "source": [
    "from allennlp.data import Vocabulary\n",
    "\n",
    "vocab = Vocabulary.from_instances(instances)"
   ]
  },
  {
   "cell_type": "markdown",
   "metadata": {},
   "source": [
    "###  word_id --> token(word) mapping\n",
    "   * get_index_to_token_vocabulary"
   ]
  },
  {
   "cell_type": "code",
   "execution_count": null,
   "metadata": {},
   "outputs": [],
   "source": [
    "# token_ids namespace\n",
    "\n",
    "print('id -> word mapping for the \"token_ids\" namespace: ')\n",
    "print(vocab.get_index_to_token_vocabulary(\"token_ids\"),\"\\n\")"
   ]
  },
  {
   "cell_type": "code",
   "execution_count": null,
   "metadata": {},
   "outputs": [],
   "source": [
    "# tags namespace\n",
    "\n",
    "print('id -> word mapping for the \"tags\" namespace: ')\n",
    "print(vocab.get_index_to_token_vocabulary('tags'), '\\n')"
   ]
  },
  {
   "cell_type": "markdown",
   "metadata": {},
   "source": [
    "###  Token(word) -> id "
   ]
  },
  {
   "cell_type": "code",
   "execution_count": null,
   "metadata": {},
   "outputs": [],
   "source": [
    "print('Token to Index dictionary: \\n' ,vocab._token_to_index, '\\n')"
   ]
  },
  {
   "cell_type": "markdown",
   "metadata": {},
   "source": [
    "### Collect Instances(dataset) into Batch and Index them\n",
    "  * Must perform this step before generating Tensors"
   ]
  },
  {
   "cell_type": "code",
   "execution_count": null,
   "metadata": {},
   "outputs": [],
   "source": [
    "from allennlp.data.dataset import Batch\n",
    "\n",
    "batch = Batch(instances)\n",
    "# index batch using vocabulary\n",
    "batch.index_instances(vocab)"
   ]
  },
  {
   "cell_type": "markdown",
   "metadata": {},
   "source": [
    "### Pad the instances to the same length"
   ]
  },
  {
   "cell_type": "code",
   "execution_count": null,
   "metadata": {},
   "outputs": [],
   "source": [
    "# get the padding lenth \n",
    "\n",
    "padding_lengths = batch.get_padding_lengths()\n",
    "print(\"Lengths used for padding : \", padding_lengths, \"\\n\")\n",
    "\n",
    "# padd instances and return Pytorch Tensors \n",
    "tensor_dict = batch.as_tensor_dict(padding_lengths)\n",
    "print(\"Look how tensors are padded!!! \\n\", tensor_dict)"
   ]
  },
  {
   "cell_type": "markdown",
   "metadata": {},
   "source": [
    "# The role of TokenIndexer\n",
    "\n",
    "* Conventional pre-processing flow\n",
    " * token --> indexing --> embedding\n",
    "\n",
    "* AllenNLP pre-processing flow\n",
    " * token --> token_indexer --> token_embedder --> TextField\n",
    " \n",
    "* What if we want to use multiple Indexer \n",
    " * e.g. TokenCharacterIndexer --> generates indices for each character in a token"
   ]
  },
  {
   "cell_type": "code",
   "execution_count": null,
   "metadata": {},
   "outputs": [],
   "source": [
    "# for large batch --> Interator\n",
    "# fixed batch size, bucketing, stocharsing sorting\n",
    "\n",
    "# Normal FLow  : tokenization -> indexing -> embedding pipeline\n",
    "# Allennlp     : tokenization -> TokenIndexers -> TokenEmbedders -> TextFieldEmbedders\n",
    "\n",
    "# ex ) TokenCharacterIndexer --> takes the word in a TextField \n",
    "#                               and generates indices for the character in the word"
   ]
  },
  {
   "cell_type": "code",
   "execution_count": null,
   "metadata": {},
   "outputs": [],
   "source": [
    "from allennlp.data.token_indexers import TokenCharactersIndexer\n",
    "\n",
    "tokens = list(map(Token,['here','are','some','longer','words','.']))\n",
    "token_indexers = {'tokens':SingleIdTokenIndexer(namespace='token_ids'),\n",
    "                  'chars':TokenCharactersIndexer(namespace='token_chars')}\n",
    "\n",
    "word_and_character_text_field = TextField(tokens,token_indexers)\n",
    "\n",
    "mini_dataset = Batch([Instance({\"sentence\":word_and_character_text_field})])\n",
    "\n",
    "word_and_char_vocab = Vocabulary.from_instances(mini_dataset)\n",
    "\n",
    "mini_dataset.index_instances(word_and_char_vocab)\n",
    "\n",
    "print(\"this is the id -> word mapping for the 'tokens_ids' namesapce: \")\n",
    "print(word_and_char_vocab.get_index_to_token_vocabulary(\"token_ids\"), \"\\n\")\n",
    "print(\"this is the id -> word mapping for the 'token_chars' namespace: \")\n",
    "print(word_and_char_vocab.get_index_to_token_vocabulary(\"token_chars\"),'\\m')"
   ]
  },
  {
   "cell_type": "code",
   "execution_count": null,
   "metadata": {},
   "outputs": [],
   "source": [
    "padding_lengths = mini_dataset.get_padding_lengths()\n",
    "print(\"Lengths used for padding( Note that we now have a new \\n\"\n",
    "     \"padding key num_tokens_characters from the TokenCharactersIndexer):\")\n",
    "print(padding_lengths, \"\\n\")\n",
    "\n",
    "tensor_dict = mini_dataset.as_tensor_dict(padding_lengths)\n",
    "\n",
    "print(\"The resulting PyTorch Tensor is : \\n\",tensor_dict)"
   ]
  },
  {
   "cell_type": "code",
   "execution_count": null,
   "metadata": {},
   "outputs": [],
   "source": [
    "#Note that the keys for the dictionary of token_indexers \n",
    "#for the TextField are different from the namespaces. \n",
    "#This is because it's possible to re-use a namespace in different TokenIndexer\n",
    "token_indexers"
   ]
  },
  {
   "cell_type": "code",
   "execution_count": null,
   "metadata": {},
   "outputs": [],
   "source": []
  }
 ],
 "metadata": {
  "kernelspec": {
   "display_name": "Python 3",
   "language": "python",
   "name": "python3"
  },
  "language_info": {
   "codemirror_mode": {
    "name": "ipython",
    "version": 3
   },
   "file_extension": ".py",
   "mimetype": "text/x-python",
   "name": "python",
   "nbconvert_exporter": "python",
   "pygments_lexer": "ipython3",
   "version": "3.6.7"
  }
 },
 "nbformat": 4,
 "nbformat_minor": 2
}

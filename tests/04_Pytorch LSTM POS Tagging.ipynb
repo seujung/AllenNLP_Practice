{
 "cells": [
  {
   "cell_type": "code",
   "execution_count": 1,
   "metadata": {},
   "outputs": [
    {
     "data": {
      "text/plain": [
       "<torch._C.Generator at 0x7fddac812170>"
      ]
     },
     "execution_count": 1,
     "metadata": {},
     "output_type": "execute_result"
    }
   ],
   "source": [
    "import torch\n",
    "import torch.nn as nn\n",
    "import torch.nn.functional as F\n",
    "import torch.optim as optim\n",
    "\n",
    "torch.manual_seed(1)"
   ]
  },
  {
   "cell_type": "markdown",
   "metadata": {},
   "source": [
    "## LSTM in PyTorch\n",
    "* All inputs must be 3D tensors\n",
    "* Semantics\n",
    "  * axis 1  :  sequence\n",
    "  * axis 2  :  indexes of instances in minibatch\n",
    "  * axis 3  :  indexes of elements of input"
   ]
  },
  {
   "cell_type": "code",
   "execution_count": 108,
   "metadata": {},
   "outputs": [
    {
     "name": "stdout",
     "output_type": "stream",
     "text": [
      "\n",
      "Iteration  0 \n",
      "\n",
      "input :  tensor([[-0.4941, -0.6253, -1.3601]]) \n",
      " output :  tensor([[[ 0.0720, -0.1889, -0.0973]]], grad_fn=<CatBackward>) \n",
      " hidden :  (tensor([[[ 0.0720, -0.1889, -0.0973]]], grad_fn=<ViewBackward>), tensor([[[ 0.3048, -0.5322, -0.2897]]], grad_fn=<ViewBackward>))\n",
      "\n",
      "Iteration  1 \n",
      "\n",
      "input :  tensor([[0.2181, 1.4353, 0.5442]]) \n",
      " output :  tensor([[[ 0.0142, -0.0729,  0.1147]]], grad_fn=<CatBackward>) \n",
      " hidden :  (tensor([[[ 0.0142, -0.0729,  0.1147]]], grad_fn=<ViewBackward>), tensor([[[ 0.0515, -0.3396,  0.2308]]], grad_fn=<ViewBackward>))\n",
      "\n",
      "Iteration  2 \n",
      "\n",
      "input :  tensor([[-0.8215,  0.1928,  1.0067]]) \n",
      " output :  tensor([[[ 0.0883, -0.0312,  0.1012]]], grad_fn=<CatBackward>) \n",
      " hidden :  (tensor([[[ 0.0883, -0.0312,  0.1012]]], grad_fn=<ViewBackward>), tensor([[[ 0.2042, -0.1547,  0.2575]]], grad_fn=<ViewBackward>))\n",
      "\n",
      "Iteration  3 \n",
      "\n",
      "input :  tensor([[ 0.8080, -0.6473, -3.1203]]) \n",
      " output :  tensor([[[ 0.0313, -0.1828, -0.1055]]], grad_fn=<CatBackward>) \n",
      " hidden :  (tensor([[[ 0.0313, -0.1828, -0.1055]]], grad_fn=<ViewBackward>), tensor([[[ 0.1593, -0.3020, -0.4441]]], grad_fn=<ViewBackward>))\n",
      "\n",
      "Iteration  4 \n",
      "\n",
      "input :  tensor([[ 0.5822, -0.9041,  0.6304]]) \n",
      " output :  tensor([[[ 0.2261, -0.1069, -0.0961]]], grad_fn=<CatBackward>) \n",
      " hidden :  (tensor([[[ 0.2261, -0.1069, -0.0961]]], grad_fn=<ViewBackward>), tensor([[[ 0.3764, -0.4566, -0.2518]]], grad_fn=<ViewBackward>))\n"
     ]
    }
   ],
   "source": [
    "lstm = nn.LSTM(3,3) # input dim is 3 , output_dim is 3\n",
    "\n",
    "inputs =[torch.randn(1,3) for _ in range(5)]\n",
    "\n",
    "torch.manual_seed(1)\n",
    "\n",
    "# initialize hidden state.\n",
    "hidden = (torch.randn(1,1,3),\n",
    "         torch.randn(1,1,3))\n",
    "\n",
    "\n",
    "for idx, i in enumerate(inputs):\n",
    "    #Step through the sequence one element at a time.\n",
    "    #after each step, hidden contains the hidden state.\n",
    "    out, hidden = lstm(i.view(1,1,-1),hidden)\n",
    "    \n",
    "    print(\"\\nIteration \", idx, \"\\n\")\n",
    "    print(\"input : \", i,'\\n',\"output : \", out,\"\\n\",\"hidden : \",hidden)"
   ]
  },
  {
   "cell_type": "code",
   "execution_count": 36,
   "metadata": {},
   "outputs": [
    {
     "name": "stdout",
     "output_type": "stream",
     "text": [
      "torch.Size([5, 1, 3])\n",
      "output \n",
      " tensor([[[-0.0367, -0.2349,  0.1330]],\n",
      "\n",
      "        [[-0.0473, -0.2768, -0.0305]],\n",
      "\n",
      "        [[-0.0981, -0.2573, -0.1590]],\n",
      "\n",
      "        [[-0.0009, -0.1021, -0.0347]],\n",
      "\n",
      "        [[ 0.1054, -0.1880, -0.2969]]], grad_fn=<CatBackward>)\n",
      "hidden layer \n",
      " (tensor([[[ 0.1054, -0.1880, -0.2969]]], grad_fn=<ViewBackward>), tensor([[[ 0.1601, -0.3293, -0.7057]]], grad_fn=<ViewBackward>))\n"
     ]
    }
   ],
   "source": [
    "# alternatively , can computer entire sequence all at once\n",
    "inputs1 = torch.cat(inputs).view(len(inputs),1,-1)\n",
    "print(inputs1.size())\n",
    "torch.manual_seed(1)\n",
    "hidden = (torch.randn(1,1,3),\n",
    "          torch.randn(1,1,3))\n",
    "\n",
    "out, hidden = lstm(inputs1,hidden)\n",
    "print(\"output \\n\", out)\n",
    "print(\"hidden layer \\n\" , hidden)"
   ]
  },
  {
   "cell_type": "markdown",
   "metadata": {},
   "source": [
    "# LSTM Tagger fro Part-of-Speetch Tagging\n",
    "\n",
    " * "
   ]
  },
  {
   "cell_type": "code",
   "execution_count": 97,
   "metadata": {},
   "outputs": [
    {
     "name": "stdout",
     "output_type": "stream",
     "text": [
      "{'the': 0, 'dog': 1, 'ate': 2, 'apple': 3, 'Everybody': 4, 'read': 5, 'that': 6, 'book': 7}\n"
     ]
    }
   ],
   "source": [
    "# Prepare data\n",
    "\n",
    "def prepare_sequence(seq,to_ix):\n",
    "    idxs = [to_ix[w] for w in seq]\n",
    "    return torch.tensor(idxs, dtype=torch.long)\n",
    "\n",
    "training_data= [\n",
    "    (\"the dog ate the apple\".split(), [\"DET\",\"NN\",\"V\",\"DET\",\"NN\"]),\n",
    "    (\"Everybody read that book\".split(), [\"NN\",\"V\",\"DET\",\"NN\"])\n",
    "]\n",
    "\n",
    "word_to_ix ={}\n",
    "for sent, tags in training_data:\n",
    "    for word in sent:\n",
    "        if word not in word_to_ix:\n",
    "            word_to_ix[word]= len(word_to_ix)\n",
    "print(word_to_ix)\n",
    "tag_to_ix ={\"DET\" : 0, \"NN\": 1, \"V\":2}\n",
    "\n",
    "EMBEDDING_DIM = 6\n",
    "HIDDEN_DIM = 6\n"
   ]
  },
  {
   "cell_type": "code",
   "execution_count": 98,
   "metadata": {},
   "outputs": [
    {
     "name": "stdout",
     "output_type": "stream",
     "text": [
      "[(['the', 'dog', 'ate', 'the', 'apple'], ['DET', 'NN', 'V', 'DET', 'NN']), (['Everybody', 'read', 'that', 'book'], ['NN', 'V', 'DET', 'NN'])]\n"
     ]
    }
   ],
   "source": [
    "print(training_data)"
   ]
  },
  {
   "cell_type": "code",
   "execution_count": 114,
   "metadata": {},
   "outputs": [],
   "source": [
    "# Create the model: \n",
    "\n",
    "class LSTMTagger(nn.Module):\n",
    "    \n",
    "    def __init__(self,\n",
    "                 embedding_dim,\n",
    "                 hidden_dim,\n",
    "                 vocab_size,\n",
    "                 target_size):\n",
    "        super(LSTMTagger, self).__init__()\n",
    "        \n",
    "        # embedding         \n",
    "        self.word_embeddings = nn.Embedding(vocab_size, embedding_dim)\n",
    "        \n",
    "        # The LSTM takes word embedding as inputs, and outputs hidden states\n",
    "        self.hidden_dim = hidden_dim\n",
    "        self.lstm = nn.LSTM(embedding_dim, hidden_dim)\n",
    "        \n",
    "        self.hidden2tag = nn.Linear(hidden_dim, target_size)\n",
    "        self.hidden = self.init_hidden()\n",
    "        \n",
    "    def init_hidden(self):\n",
    "        # Initialize hidden states\n",
    "\n",
    "        return(torch.zeros(1,1,self.hidden_dim),\n",
    "               torch.zeros(1,1,self.hidden_dim))\n",
    "\n",
    "    def forward(self, sentence):\n",
    "        embeds = self.word_embeddings(sentence)\n",
    "        lstm_out, self.hidden = self.lstm(\n",
    "            embeds.view(len(sentence),1,-1), self.hidden)\n",
    "        tag_space = self.hidden2tag(lstm_out.view(len(sentence),-1))\n",
    "        tag_score = F.log_softmax(tag_space, dim = 1)\n",
    "        return tag_score\n",
    "        "
   ]
  },
  {
   "cell_type": "code",
   "execution_count": 115,
   "metadata": {},
   "outputs": [
    {
     "name": "stdout",
     "output_type": "stream",
     "text": [
      "inputs \n",
      "\n",
      "tensor([0, 1, 2, 0, 3])\n",
      "\n",
      "outputs \n",
      "\n",
      "tensor([[-0.8932, -1.3633, -1.0941],\n",
      "        [-0.8370, -1.3715, -1.1606],\n",
      "        [-0.8655, -1.4086, -1.0945],\n",
      "        [-0.8908, -1.3966, -1.0722],\n",
      "        [-0.8738, -1.2574, -1.2099]])\n"
     ]
    }
   ],
   "source": [
    "# Train the model\n",
    "\n",
    "model = LSTMTagger(EMBEDDING_DIM, \n",
    "                   HIDDEN_DIM,\n",
    "                   len(word_to_ix),\n",
    "                   len(tag_to_ix))\n",
    "loss_function = nn.NLLLoss()\n",
    "optimizer = optim.SGD(model.parameters(),lr=0.1)\n",
    "\n",
    "# See the socre before training\n",
    "# Note (i,j) is the socre for tag j for word i \n",
    "\n",
    "with torch.no_grad():\n",
    "    inputs = prepare_sequence(training_data[0][0], word_to_ix)\n",
    "    tag_score = model(inputs)\n",
    "    print(\"inputs \\n\")\n",
    "    print(inputs)\n",
    "    print(\"\\noutputs \\n\")\n",
    "    print(tag_score)"
   ]
  },
  {
   "cell_type": "code",
   "execution_count": 117,
   "metadata": {},
   "outputs": [
    {
     "name": "stdout",
     "output_type": "stream",
     "text": [
      "tensor([[-0.0610, -4.6309, -3.0076],\n",
      "        [-6.3039, -0.0127, -4.5331],\n",
      "        [-2.7716, -3.6853, -0.0917],\n",
      "        [-0.0355, -6.2252, -3.4136],\n",
      "        [-6.0947, -0.0104, -4.8199]])\n",
      "['the', 'dog', 'ate', 'the', 'apple']\n",
      "['DET', 'NN', 'V', 'DET', 'NN']\n",
      "tensor([[-6.4407, -0.0206, -3.9740],\n",
      "        [-3.2040, -3.2308, -0.0835],\n",
      "        [-0.0348, -5.9886, -3.4520],\n",
      "        [-6.5204, -0.0183, -4.0972]])\n",
      "['Everybody', 'read', 'that', 'book']\n",
      "['NN', 'V', 'DET', 'NN']\n",
      "{'DET': 0, 'NN': 1, 'V': 2}\n"
     ]
    }
   ],
   "source": [
    "for epoch in range(300):\n",
    "    for sentence, tags in training_data:\n",
    "\n",
    "        # step1 - clear accumulated gradients()\n",
    "        model.zero_grad()\n",
    "        \n",
    "        # clear the hidden state of LSTM \n",
    "        model.hidden = model.init_hidden()\n",
    "        \n",
    "        # step2 - input to tensor\n",
    "        sentence_in = prepare_sequence(sentence, word_to_ix)\n",
    "        targets = prepare_sequence(tags, tag_to_ix)\n",
    "\n",
    "        # step3 - forward pass\n",
    "        tag_scores = model(sentence_in)\n",
    "        \n",
    "        # step3 - compute loss, gradients, and update paramters\n",
    "        loss = loss_function(tag_scores, targets)\n",
    "        loss.backward()\n",
    "        optimizer.step()\n",
    "        \n",
    "# see the score after training\n",
    "with torch.no_grad():\n",
    "    for i in range(2):\n",
    "        inputs = prepare_sequence(training_data[i][0], word_to_ix)\n",
    "        tag_scores = model(inputs)\n",
    "\n",
    "        print(tag_scores)\n",
    "        print(training_data[i][0])\n",
    "        print(training_data[i][1])\n",
    "\n",
    "print(tag_to_ix)\n",
    "        "
   ]
  },
  {
   "cell_type": "code",
   "execution_count": null,
   "metadata": {},
   "outputs": [],
   "source": []
  }
 ],
 "metadata": {
  "kernelspec": {
   "display_name": "Python 3",
   "language": "python",
   "name": "python3"
  },
  "language_info": {
   "codemirror_mode": {
    "name": "ipython",
    "version": 3
   },
   "file_extension": ".py",
   "mimetype": "text/x-python",
   "name": "python",
   "nbconvert_exporter": "python",
   "pygments_lexer": "ipython3",
   "version": "3.6.7"
  }
 },
 "nbformat": 4,
 "nbformat_minor": 2
}

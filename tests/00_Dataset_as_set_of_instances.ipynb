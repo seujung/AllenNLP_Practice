{
 "cells": [
  {
   "cell_type": "markdown",
   "metadata": {},
   "source": [
    "# Dataset as a list of instances\n",
    "* Token --> word\n",
    "* token_indexer \n",
    "* Text_field --> (token, token_indexer)\n",
    "* label --> target\n",
    "* instance --> (token , label)\n",
    "\n"
   ]
  },
  {
   "cell_type": "markdown",
   "metadata": {},
   "source": [
    "### TextField = { Token, Token_indexer}"
   ]
  },
  {
   "cell_type": "code",
   "execution_count": null,
   "metadata": {},
   "outputs": [],
   "source": [
    "from allennlp.data import Token\n",
    "from allennlp.data.fields import TextField\n",
    "from allennlp.data.token_indexers import SingleIdTokenIndexer"
   ]
  },
  {
   "cell_type": "code",
   "execution_count": null,
   "metadata": {},
   "outputs": [],
   "source": [
    "# Words are encapsulated by Token \n",
    "token = list(map(Token,['this','movie','was','awful','!']))\n",
    "\n",
    "# select the type of indexer to use \n",
    "# define the namespace as \"tokens\"\n",
    "token_indexers = {'tokens':SingleIdTokenIndexer(namespace ='token_ids')}\n",
    "\n",
    "# define the text_field ( or text input or X )\n",
    "review = TextField(token,token_indexers)\n",
    "print('Tokens in TextField : ', review.tokens)"
   ]
  },
  {
   "cell_type": "markdown",
   "metadata": {},
   "source": [
    "### LabelField"
   ]
  },
  {
   "cell_type": "code",
   "execution_count": null,
   "metadata": {},
   "outputs": [],
   "source": [
    "# define the label_field  (or the target Y)\n",
    "# with namesapce \"tags\"\n",
    "\n",
    "from allennlp.data.fields import LabelField\n",
    "\n",
    "review_sentiment = LabelField('negative',label_namespace='tags')\n",
    "print('Label of LabelField : ', review_sentiment.label)"
   ]
  },
  {
   "cell_type": "markdown",
   "metadata": {},
   "source": [
    "### Instance ( Sample) "
   ]
  },
  {
   "cell_type": "code",
   "execution_count": null,
   "metadata": {},
   "outputs": [],
   "source": [
    "from allennlp.data import Instance\n",
    "\n",
    "instance1 = Instance({'review': review,'label':review_sentiment})\n",
    "print('Field in instance: ' , instance1.fields)"
   ]
  },
  {
   "cell_type": "markdown",
   "metadata": {},
   "source": [
    "### Make another instance"
   ]
  },
  {
   "cell_type": "code",
   "execution_count": null,
   "metadata": {},
   "outputs": [],
   "source": [
    "token2 = list(map(Token,['this','movie','was','quite','slow','but','good','.']))\n",
    "token_indexers2 = {'tokens':SingleIdTokenIndexer(namespace='token_ids')}\n",
    "review2 = TextField(token2,token_indexers2)\n",
    "print('Tokens in TextField : ', review2.tokens)\n",
    "\n",
    "review_sentiment2 = LabelField('positive', label_namespace='tags')\n",
    "instance2 = Instance({'review':review2, 'label': review_sentiment2})\n",
    "print('Fields in instance: ' , instance2.fields)"
   ]
  },
  {
   "cell_type": "markdown",
   "metadata": {},
   "source": [
    "### List of Instances == Dataset"
   ]
  },
  {
   "cell_type": "code",
   "execution_count": null,
   "metadata": {},
   "outputs": [],
   "source": [
    "instances = [instance1, instance2]\n",
    "print(instances)"
   ]
  }
 ],
 "metadata": {
  "kernelspec": {
   "display_name": "Python 3",
   "language": "python",
   "name": "python3"
  },
  "language_info": {
   "codemirror_mode": {
    "name": "ipython",
    "version": 3
   },
   "file_extension": ".py",
   "mimetype": "text/x-python",
   "name": "python",
   "nbconvert_exporter": "python",
   "pygments_lexer": "ipython3",
   "version": "3.6.7"
  }
 },
 "nbformat": 4,
 "nbformat_minor": 2
}

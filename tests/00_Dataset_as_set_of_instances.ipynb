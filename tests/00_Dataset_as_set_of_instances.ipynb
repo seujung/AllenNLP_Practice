{
 "cells": [
  {
   "cell_type": "markdown",
   "metadata": {},
   "source": [
    "# Dataset as a list of instances\n",
    "* Token --> word\n",
    "* token_indexer \n",
    "* Text_field --> (token, token_indexer)\n",
    "* label --> target\n",
    "* instance --> (token , label)\n",
    "\n"
   ]
  },
  {
   "cell_type": "markdown",
   "metadata": {},
   "source": [
    "### TextField = { Token, Token_indexer}"
   ]
  },
  {
   "cell_type": "code",
   "execution_count": 1,
   "metadata": {},
   "outputs": [],
   "source": [
    "from allennlp.data import Token\n",
    "from allennlp.data.fields import TextField\n",
    "from allennlp.data.token_indexers import SingleIdTokenIndexer"
   ]
  },
  {
   "cell_type": "code",
   "execution_count": 2,
   "metadata": {},
   "outputs": [
    {
     "name": "stdout",
     "output_type": "stream",
     "text": [
      "Tokens in TextField :  [this, movie, was, awful, !]\n"
     ]
    }
   ],
   "source": [
    "# Words are encapsulated by Token \n",
    "token = list(map(Token,['this','movie','was','awful','!']))\n",
    "\n",
    "# select the type of indexer to use \n",
    "# define the namespace as \"tokens\"\n",
    "token_indexers = {'tokens':SingleIdTokenIndexer(namespace ='token_ids')}\n",
    "\n",
    "# define the text_field ( or text input or X )\n",
    "review = TextField(token,token_indexers)\n",
    "print('Tokens in TextField : ', review.tokens)"
   ]
  },
  {
   "cell_type": "markdown",
   "metadata": {},
   "source": [
    "### LabelField"
   ]
  },
  {
   "cell_type": "code",
   "execution_count": 3,
   "metadata": {},
   "outputs": [
    {
     "name": "stdout",
     "output_type": "stream",
     "text": [
      "Label of LabelField :  negative\n"
     ]
    }
   ],
   "source": [
    "# define the label_field  (or the target Y)\n",
    "# with namesapce \"tags\"\n",
    "\n",
    "from allennlp.data.fields import LabelField\n",
    "\n",
    "review_sentiment = LabelField('negative',label_namespace='tags')\n",
    "print('Label of LabelField : ', review_sentiment.label)"
   ]
  },
  {
   "cell_type": "markdown",
   "metadata": {},
   "source": [
    "### Instance ( Sample) "
   ]
  },
  {
   "cell_type": "code",
   "execution_count": 4,
   "metadata": {},
   "outputs": [
    {
     "name": "stdout",
     "output_type": "stream",
     "text": [
      "Field in instance:  {'review': <allennlp.data.fields.text_field.TextField object at 0x7f3b5f4b54a8>, 'label': <allennlp.data.fields.label_field.LabelField object at 0x7f3b5f4a4e10>}\n"
     ]
    }
   ],
   "source": [
    "from allennlp.data import Instance\n",
    "\n",
    "instance1 = Instance({'review': review,'label':review_sentiment})\n",
    "print('Field in instance: ' , instance1.fields)"
   ]
  },
  {
   "cell_type": "markdown",
   "metadata": {},
   "source": [
    "### Make another instance"
   ]
  },
  {
   "cell_type": "code",
   "execution_count": 5,
   "metadata": {},
   "outputs": [
    {
     "name": "stdout",
     "output_type": "stream",
     "text": [
      "Tokens in TextField :  [this, movie, was, quite, slow, but, good, .]\n",
      "Fields in instance:  {'review': <allennlp.data.fields.text_field.TextField object at 0x7f3b5f4b5e80>, 'label': <allennlp.data.fields.label_field.LabelField object at 0x7f3b5f4b90f0>}\n"
     ]
    }
   ],
   "source": [
    "token2 = list(map(Token,['this','movie','was','quite','slow','but','good','.']))\n",
    "token_indexers2 = {'tokens':SingleIdTokenIndexer(namespace='token_ids')}\n",
    "review2 = TextField(token2,token_indexers2)\n",
    "print('Tokens in TextField : ', review2.tokens)\n",
    "\n",
    "review_sentiment2 = LabelField('positive', label_namespace='tags')\n",
    "instance2 = Instance({'review':review2, 'label': review_sentiment2})\n",
    "print('Fields in instance: ' , instance2.fields)"
   ]
  },
  {
   "cell_type": "markdown",
   "metadata": {},
   "source": [
    "### List of Instances == Dataset"
   ]
  },
  {
   "cell_type": "code",
   "execution_count": 6,
   "metadata": {},
   "outputs": [
    {
     "name": "stdout",
     "output_type": "stream",
     "text": [
      "[<allennlp.data.instance.Instance object at 0x7f3b5f4a4f98>, <allennlp.data.instance.Instance object at 0x7f3b5f4b91d0>]\n"
     ]
    }
   ],
   "source": [
    "instances = [instance1, instance2]\n",
    "print(instances)"
   ]
  }
 ],
 "metadata": {
  "kernelspec": {
   "display_name": "Python 3",
   "language": "python",
   "name": "python3"
  },
  "language_info": {
   "codemirror_mode": {
    "name": "ipython",
    "version": 3
   },
   "file_extension": ".py",
   "mimetype": "text/x-python",
   "name": "python",
   "nbconvert_exporter": "python",
   "pygments_lexer": "ipython3",
   "version": "3.6.7"
  }
 },
 "nbformat": 4,
 "nbformat_minor": 2
}

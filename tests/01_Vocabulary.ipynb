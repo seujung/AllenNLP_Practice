{
 "cells": [
  {
   "cell_type": "markdown",
   "metadata": {},
   "source": [
    "# Vocabulary\n",
    "\n",
    "* Given a dataset, Vocabulary decides which tokens are in vocabulary\n",
    "* Or Can be loaded directly from a static vocabulary file."
   ]
  },
  {
   "cell_type": "code",
   "execution_count": 1,
   "metadata": {},
   "outputs": [],
   "source": [
    "from allennlp.data import Vocabulary"
   ]
  },
  {
   "cell_type": "markdown",
   "metadata": {},
   "source": [
    "## Empty vocabulary creation"
   ]
  },
  {
   "cell_type": "code",
   "execution_count": 3,
   "metadata": {},
   "outputs": [],
   "source": [
    "vocab = Vocabulary(counter=None, min_count=1, max_vocab_size=100000)"
   ]
  },
  {
   "cell_type": "markdown",
   "metadata": {},
   "source": [
    "* Param1 : A counter (Dict[str,Dict[str,int]])\n",
    "\n",
    "  * nested dictionary \n",
    "    * first level     :  namespace ( textrual input , and  tag(NP,VP etc))\n",
    "    * second level    :  Dict[tokens] -> counts (NP -> 1)\n",
    "* Param2 : A minimum cmount\n",
    "    * Tokens with smaller counts than this value are excluded from vocabulary\n",
    "* Param3 : A maximum vocab size: \n",
    "    * words are dropped if exceeds this value\n",
    "* Param4 : Non padded namespaces \n",
    "    *  *labels and *tags (ex. sequence_labels)"
   ]
  },
  {
   "cell_type": "markdown",
   "metadata": {},
   "source": [
    "## Vocabulary manipulation\n",
    "    * Adding words (tokens)\n",
    "        * add_token_to_namespace\n",
    "    * Retrieve token(word) given word_id\n",
    "        * get_token_from_index\n",
    "    * Retrieve word_id given token (word)\n",
    "        * get_token_index"
   ]
  },
  {
   "cell_type": "code",
   "execution_count": 4,
   "metadata": {},
   "outputs": [
    {
     "name": "stdout",
     "output_type": "stream",
     "text": [
      "{0: '@@PADDING@@', 1: '@@UNKNOWN@@', 2: 'Barack', 3: 'Obama'}\n",
      "{0: 'PERSON', 1: 'PLACE'}\n"
     ]
    }
   ],
   "source": [
    "# easy to interact with vocabulary\n",
    "vocab.add_token_to_namespace(\"Barack\",namespace=\"tokens\")\n",
    "vocab.add_token_to_namespace(\"Obama\", namespace='tokens')\n",
    "vocab.add_token_to_namespace(\"PERSON\", namespace='tags')\n",
    "vocab.add_token_to_namespace(\"PLACE\",namespace='tags')\n",
    "\n",
    "print(vocab.get_index_to_token_vocabulary(\"tokens\"))\n",
    "print(vocab.get_index_to_token_vocabulary(\"tags\"))"
   ]
  },
  {
   "cell_type": "code",
   "execution_count": 5,
   "metadata": {},
   "outputs": [
    {
     "name": "stdout",
     "output_type": "stream",
     "text": [
      "Index 2 has token:  Barack\n"
     ]
    }
   ],
   "source": [
    "# easy to retrieve tokens given word_ids\n",
    "print(\"Index 2 has token: \", \n",
    "      vocab.get_token_from_index(2,namespace='tokens'))"
   ]
  },
  {
   "cell_type": "code",
   "execution_count": 6,
   "metadata": {},
   "outputs": [
    {
     "name": "stdout",
     "output_type": "stream",
     "text": [
      "Word 'Barack' has index :  2\n"
     ]
    }
   ],
   "source": [
    "# easy to retrieve specific word_ids \n",
    "print(\"Word 'Barack' has index : \",\n",
    "      vocab.get_token_index(\"Barack\",namespace='tokens'))"
   ]
  },
  {
   "cell_type": "markdown",
   "metadata": {},
   "source": [
    "## Notice the different ways of dealing with missing words\n",
    "\n",
    "    * Textual inputs : Simply returns \"@@UNKONWN@@\": index 1\n",
    "    \n",
    "    * Label inputs : returns KeyError "
   ]
  },
  {
   "cell_type": "code",
   "execution_count": 9,
   "metadata": {},
   "outputs": [
    {
     "name": "stdout",
     "output_type": "stream",
     "text": [
      "The index of 'pernacious' in the 'tokens' namespace should be 1(The @@UNKONWN@@ token):  1\n"
     ]
    }
   ],
   "source": [
    "# Text Fields\n",
    "\n",
    "print(\"The index of 'pernacious' in the 'tokens' namespace should be 1\"\n",
    "     \"(The @@UNKONWN@@ token): \",vocab.get_token_index(\"pernacious\",namespace=\"tokens\"))"
   ]
  },
  {
   "cell_type": "code",
   "execution_count": 10,
   "metadata": {},
   "outputs": [
    {
     "name": "stderr",
     "output_type": "stream",
     "text": [
      "Namespace: tags\n",
      "Token: pernacious\n"
     ]
    },
    {
     "name": "stdout",
     "output_type": "stream",
     "text": [
      "As 'tags' doesn't have an unknown token, getting non_existent tags will throw a KeyError\n"
     ]
    }
   ],
   "source": [
    "# Label Fields\n",
    "\n",
    "try:\n",
    "    vocab.get_token_index(\"pernacious\",namespace=\"tags\")\n",
    "except KeyError:\n",
    "    print(\"As 'tags' doesn't have an unknown token, getting non_existent tags will throw a KeyError\")\n"
   ]
  },
  {
   "cell_type": "markdown",
   "metadata": {},
   "source": [
    "# Generating vocabulary from Instances (Dataset)"
   ]
  },
  {
   "cell_type": "code",
   "execution_count": 18,
   "metadata": {},
   "outputs": [],
   "source": [
    "# generating vocabulary from instances ( dataset)\n",
    "\n",
    "from allennlp.data.fields import TextField,SequenceLabelField\n",
    "from allennlp.data import Instance, Token\n",
    "from allennlp.data.token_indexers import SingleIdTokenIndexer\n",
    "\n",
    "tokens = list(map(Token,[\"Barack\",\"Obama\" ,\"is\",\"a\",\"great\",\"guy\",\".\"]))\n",
    "token_indexers = {\"tokens\":SingleIdTokenIndexer()}\n",
    "sentence = TextField(tokens,token_indexers)\n",
    "\n",
    "tags = SequenceLabelField([\"PERSON\",\"PERSON\",\"O\",\"O\",\"O\",\"O\",\"O\"],sentence,label_namespace='tags')\n",
    "instances =[Instance({'sentence':sentence,'tags':tags})]"
   ]
  },
  {
   "cell_type": "code",
   "execution_count": 20,
   "metadata": {},
   "outputs": [
    {
     "name": "stderr",
     "output_type": "stream",
     "text": [
      "100%|██████████| 1/1 [00:00<00:00, 9576.04it/s]"
     ]
    },
    {
     "name": "stdout",
     "output_type": "stream",
     "text": [
      "{0: '@@PADDING@@', 1: '@@UNKNOWN@@', 2: 'Barack', 3: 'Obama', 4: 'is', 5: 'a', 6: 'great', 7: 'guy', 8: '.'}\n",
      "{0: 'O', 1: 'PERSON'}\n"
     ]
    },
    {
     "name": "stderr",
     "output_type": "stream",
     "text": [
      "\n"
     ]
    }
   ],
   "source": [
    "vocab = Vocabulary.from_instances(instances)\n",
    "print(vocab.get_index_to_token_vocabulary(\"tokens\"))\n",
    "print(vocab.get_index_to_token_vocabulary(\"tags\"))"
   ]
  }
 ],
 "metadata": {
  "kernelspec": {
   "display_name": "Python 3",
   "language": "python",
   "name": "python3"
  },
  "language_info": {
   "codemirror_mode": {
    "name": "ipython",
    "version": 3
   },
   "file_extension": ".py",
   "mimetype": "text/x-python",
   "name": "python",
   "nbconvert_exporter": "python",
   "pygments_lexer": "ipython3",
   "version": "3.6.7"
  }
 },
 "nbformat": 4,
 "nbformat_minor": 2
}
